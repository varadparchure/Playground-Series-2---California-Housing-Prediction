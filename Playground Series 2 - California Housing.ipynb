{
 "cells": [
  {
   "cell_type": "code",
   "execution_count": 4,
   "id": "8e4bc98a",
   "metadata": {},
   "outputs": [],
   "source": [
    "import pandas as pd\n",
    "import matplotlib.pyplot as mp\n",
    "import seaborn as sns\n",
    "import numpy as np\n"
   ]
  },
  {
   "cell_type": "code",
   "execution_count": 5,
   "id": "66d41dc2",
   "metadata": {},
   "outputs": [
    {
     "data": {
      "text/html": [
       "<div>\n",
       "<style scoped>\n",
       "    .dataframe tbody tr th:only-of-type {\n",
       "        vertical-align: middle;\n",
       "    }\n",
       "\n",
       "    .dataframe tbody tr th {\n",
       "        vertical-align: top;\n",
       "    }\n",
       "\n",
       "    .dataframe thead th {\n",
       "        text-align: right;\n",
       "    }\n",
       "</style>\n",
       "<table border=\"1\" class=\"dataframe\">\n",
       "  <thead>\n",
       "    <tr style=\"text-align: right;\">\n",
       "      <th></th>\n",
       "      <th>id</th>\n",
       "      <th>MedInc</th>\n",
       "      <th>HouseAge</th>\n",
       "      <th>AveRooms</th>\n",
       "      <th>AveBedrms</th>\n",
       "      <th>Population</th>\n",
       "      <th>AveOccup</th>\n",
       "      <th>Latitude</th>\n",
       "      <th>Longitude</th>\n",
       "      <th>MedHouseVal</th>\n",
       "    </tr>\n",
       "  </thead>\n",
       "  <tbody>\n",
       "    <tr>\n",
       "      <th>0</th>\n",
       "      <td>0</td>\n",
       "      <td>2.3859</td>\n",
       "      <td>15.0</td>\n",
       "      <td>3.827160</td>\n",
       "      <td>1.112100</td>\n",
       "      <td>1280.0</td>\n",
       "      <td>2.486989</td>\n",
       "      <td>34.60</td>\n",
       "      <td>-120.12</td>\n",
       "      <td>0.980</td>\n",
       "    </tr>\n",
       "    <tr>\n",
       "      <th>1</th>\n",
       "      <td>1</td>\n",
       "      <td>3.7188</td>\n",
       "      <td>17.0</td>\n",
       "      <td>6.013373</td>\n",
       "      <td>1.054217</td>\n",
       "      <td>1504.0</td>\n",
       "      <td>3.813084</td>\n",
       "      <td>38.69</td>\n",
       "      <td>-121.22</td>\n",
       "      <td>0.946</td>\n",
       "    </tr>\n",
       "    <tr>\n",
       "      <th>2</th>\n",
       "      <td>2</td>\n",
       "      <td>4.7750</td>\n",
       "      <td>27.0</td>\n",
       "      <td>6.535604</td>\n",
       "      <td>1.103175</td>\n",
       "      <td>1061.0</td>\n",
       "      <td>2.464602</td>\n",
       "      <td>34.71</td>\n",
       "      <td>-120.45</td>\n",
       "      <td>1.576</td>\n",
       "    </tr>\n",
       "    <tr>\n",
       "      <th>3</th>\n",
       "      <td>3</td>\n",
       "      <td>2.4138</td>\n",
       "      <td>16.0</td>\n",
       "      <td>3.350203</td>\n",
       "      <td>0.965432</td>\n",
       "      <td>1255.0</td>\n",
       "      <td>2.089286</td>\n",
       "      <td>32.66</td>\n",
       "      <td>-117.09</td>\n",
       "      <td>1.336</td>\n",
       "    </tr>\n",
       "    <tr>\n",
       "      <th>4</th>\n",
       "      <td>4</td>\n",
       "      <td>3.7500</td>\n",
       "      <td>52.0</td>\n",
       "      <td>4.284404</td>\n",
       "      <td>1.069246</td>\n",
       "      <td>1793.0</td>\n",
       "      <td>1.604790</td>\n",
       "      <td>37.80</td>\n",
       "      <td>-122.41</td>\n",
       "      <td>4.500</td>\n",
       "    </tr>\n",
       "  </tbody>\n",
       "</table>\n",
       "</div>"
      ],
      "text/plain": [
       "   id  MedInc  HouseAge  AveRooms  AveBedrms  Population  AveOccup  Latitude  \\\n",
       "0   0  2.3859      15.0  3.827160   1.112100      1280.0  2.486989     34.60   \n",
       "1   1  3.7188      17.0  6.013373   1.054217      1504.0  3.813084     38.69   \n",
       "2   2  4.7750      27.0  6.535604   1.103175      1061.0  2.464602     34.71   \n",
       "3   3  2.4138      16.0  3.350203   0.965432      1255.0  2.089286     32.66   \n",
       "4   4  3.7500      52.0  4.284404   1.069246      1793.0  1.604790     37.80   \n",
       "\n",
       "   Longitude  MedHouseVal  \n",
       "0    -120.12        0.980  \n",
       "1    -121.22        0.946  \n",
       "2    -120.45        1.576  \n",
       "3    -117.09        1.336  \n",
       "4    -122.41        4.500  "
      ]
     },
     "execution_count": 5,
     "metadata": {},
     "output_type": "execute_result"
    }
   ],
   "source": [
    "train_df = pd.read_csv(\"/../Users/modx/Desktop/playground-series-s3e1/train.csv\")\n",
    "\n",
    "train_df.head()"
   ]
  },
  {
   "cell_type": "code",
   "execution_count": 6,
   "id": "2e4ebbb4",
   "metadata": {},
   "outputs": [
    {
     "data": {
      "text/html": [
       "<div>\n",
       "<style scoped>\n",
       "    .dataframe tbody tr th:only-of-type {\n",
       "        vertical-align: middle;\n",
       "    }\n",
       "\n",
       "    .dataframe tbody tr th {\n",
       "        vertical-align: top;\n",
       "    }\n",
       "\n",
       "    .dataframe thead th {\n",
       "        text-align: right;\n",
       "    }\n",
       "</style>\n",
       "<table border=\"1\" class=\"dataframe\">\n",
       "  <thead>\n",
       "    <tr style=\"text-align: right;\">\n",
       "      <th></th>\n",
       "      <th>id</th>\n",
       "      <th>MedInc</th>\n",
       "      <th>HouseAge</th>\n",
       "      <th>AveRooms</th>\n",
       "      <th>AveBedrms</th>\n",
       "      <th>Population</th>\n",
       "      <th>AveOccup</th>\n",
       "      <th>Latitude</th>\n",
       "      <th>Longitude</th>\n",
       "    </tr>\n",
       "  </thead>\n",
       "  <tbody>\n",
       "    <tr>\n",
       "      <th>0</th>\n",
       "      <td>37137</td>\n",
       "      <td>1.7062</td>\n",
       "      <td>35.0</td>\n",
       "      <td>4.966368</td>\n",
       "      <td>1.096539</td>\n",
       "      <td>1318.0</td>\n",
       "      <td>2.844411</td>\n",
       "      <td>39.75</td>\n",
       "      <td>-121.85</td>\n",
       "    </tr>\n",
       "    <tr>\n",
       "      <th>1</th>\n",
       "      <td>37138</td>\n",
       "      <td>1.3882</td>\n",
       "      <td>22.0</td>\n",
       "      <td>4.187035</td>\n",
       "      <td>1.098229</td>\n",
       "      <td>2296.0</td>\n",
       "      <td>3.180218</td>\n",
       "      <td>33.95</td>\n",
       "      <td>-118.29</td>\n",
       "    </tr>\n",
       "    <tr>\n",
       "      <th>2</th>\n",
       "      <td>37139</td>\n",
       "      <td>7.7197</td>\n",
       "      <td>21.0</td>\n",
       "      <td>7.129436</td>\n",
       "      <td>0.959276</td>\n",
       "      <td>1535.0</td>\n",
       "      <td>2.888889</td>\n",
       "      <td>33.61</td>\n",
       "      <td>-117.81</td>\n",
       "    </tr>\n",
       "    <tr>\n",
       "      <th>3</th>\n",
       "      <td>37140</td>\n",
       "      <td>4.6806</td>\n",
       "      <td>49.0</td>\n",
       "      <td>4.769697</td>\n",
       "      <td>1.048485</td>\n",
       "      <td>707.0</td>\n",
       "      <td>1.743590</td>\n",
       "      <td>34.17</td>\n",
       "      <td>-118.34</td>\n",
       "    </tr>\n",
       "    <tr>\n",
       "      <th>4</th>\n",
       "      <td>37141</td>\n",
       "      <td>3.1284</td>\n",
       "      <td>25.0</td>\n",
       "      <td>3.765306</td>\n",
       "      <td>1.081633</td>\n",
       "      <td>4716.0</td>\n",
       "      <td>2.003827</td>\n",
       "      <td>34.17</td>\n",
       "      <td>-118.29</td>\n",
       "    </tr>\n",
       "  </tbody>\n",
       "</table>\n",
       "</div>"
      ],
      "text/plain": [
       "      id  MedInc  HouseAge  AveRooms  AveBedrms  Population  AveOccup  \\\n",
       "0  37137  1.7062      35.0  4.966368   1.096539      1318.0  2.844411   \n",
       "1  37138  1.3882      22.0  4.187035   1.098229      2296.0  3.180218   \n",
       "2  37139  7.7197      21.0  7.129436   0.959276      1535.0  2.888889   \n",
       "3  37140  4.6806      49.0  4.769697   1.048485       707.0  1.743590   \n",
       "4  37141  3.1284      25.0  3.765306   1.081633      4716.0  2.003827   \n",
       "\n",
       "   Latitude  Longitude  \n",
       "0     39.75    -121.85  \n",
       "1     33.95    -118.29  \n",
       "2     33.61    -117.81  \n",
       "3     34.17    -118.34  \n",
       "4     34.17    -118.29  "
      ]
     },
     "execution_count": 6,
     "metadata": {},
     "output_type": "execute_result"
    }
   ],
   "source": [
    "test_df = pd.read_csv(\"/../Users/modx/Desktop/playground-series-s3e1/test.csv\")\n",
    "\n",
    "test_df.head()"
   ]
  },
  {
   "cell_type": "code",
   "execution_count": 7,
   "id": "df0e9229",
   "metadata": {},
   "outputs": [
    {
     "data": {
      "text/plain": [
       "id             0\n",
       "MedInc         0\n",
       "HouseAge       0\n",
       "AveRooms       0\n",
       "AveBedrms      0\n",
       "Population     0\n",
       "AveOccup       0\n",
       "Latitude       0\n",
       "Longitude      0\n",
       "MedHouseVal    0\n",
       "dtype: int64"
      ]
     },
     "execution_count": 7,
     "metadata": {},
     "output_type": "execute_result"
    }
   ],
   "source": [
    "#check NA\n",
    "\n",
    "train_df.isna().sum()"
   ]
  },
  {
   "cell_type": "code",
   "execution_count": 8,
   "id": "849a63b3",
   "metadata": {},
   "outputs": [
    {
     "data": {
      "text/plain": [
       "((37137, 10), (24759, 9))"
      ]
     },
     "execution_count": 8,
     "metadata": {},
     "output_type": "execute_result"
    }
   ],
   "source": [
    "train_df.shape, test_df.shape"
   ]
  },
  {
   "cell_type": "code",
   "execution_count": 9,
   "id": "99200afc",
   "metadata": {},
   "outputs": [
    {
     "data": {
      "image/png": "[encoded data removed]",
      "text/plain": [
       "<Figure size 640x480 with 2 Axes>"
      ]
     },
     "metadata": {},
     "output_type": "display_data"
    }
   ],
   "source": [
    "# plotting correlation heatmap\n",
    "\n",
    "cmap = sns.diverging_palette(500, 10, as_cmap=True)\n",
    "ans=sns.heatmap(train_df.corr(),  linewidths=1, cmap=cmap, center=0)\n",
    "  \n",
    "# displaying heatmap\n",
    "mp.show()"
   ]
  },
  {
   "cell_type": "code",
   "execution_count": 10,
   "id": "55e37e98",
   "metadata": {},
   "outputs": [],
   "source": [
    "from lightgbm.sklearn import LGBMRegressor\n",
    "import lightgbm as lgbm\n",
    "from sklearn.metrics import mean_squared_error\n",
    "from sklearn.model_selection import KFold"
   ]
  },
  {
   "cell_type": "code",
   "execution_count": 11,
   "id": "c4a29692",
   "metadata": {},
   "outputs": [],
   "source": [
    "#seperate out features\n",
    "\n",
    "features = ['MedInc', 'HouseAge', 'AveRooms', 'AveBedrms', 'Population', 'AveOccup', 'Latitude', 'Longitude']\n",
    "target = 'MedHouseVal'"
   ]
  },
  {
   "cell_type": "code",
   "execution_count": 12,
   "id": "9334bde8",
   "metadata": {},
   "outputs": [],
   "source": [
    "#people are reporting is that adding original data (the data on which the Deep Learning model that was used to \n",
    "#generate the data for this competition was trained) helps."
   ]
  },
  {
   "cell_type": "code",
   "execution_count": 13,
   "id": "b54ef66f",
   "metadata": {},
   "outputs": [],
   "source": [
    "from sklearn.datasets import fetch_california_housing\n",
    "\n",
    "original_data = fetch_california_housing()\n",
    "train_df = train_df.drop(columns='id')\n",
    "\n",
    "original_data = pd.DataFrame(data=np.hstack([original_data['data'], original_data['target'].reshape(-1, 1)]), columns=train_df.columns)\n",
    "\n",
    "#concat original data with the current one\n",
    "train_df = pd.concat([train_df, original_data]).reset_index(drop=True)"
   ]
  },
  {
   "cell_type": "code",
   "execution_count": 30,
   "id": "d376c386",
   "metadata": {},
   "outputs": [
    {
     "name": "stdout",
     "output_type": "stream",
     "text": [
      "[LightGBM] [Warning] feature_fraction is set=0.79, colsample_bytree=1.0 will be ignored. Current value: feature_fraction=0.79\n",
      "[LightGBM] [Warning] min_data_in_leaf is set=103, min_child_samples=20 will be ignored. Current value: min_data_in_leaf=103\n",
      "[LightGBM] [Warning] lambda_l1 is set=1.945, reg_alpha=0.0 will be ignored. Current value: lambda_l1=1.945\n",
      "[LightGBM] [Warning] bagging_fraction is set=0.93, subsample=1.0 will be ignored. Current value: bagging_fraction=0.93\n",
      "[LightGBM] [Warning] bagging_freq is set=4, subsample_freq=0 will be ignored. Current value: bagging_freq=4\n",
      "Training until validation scores don't improve for 85 rounds\n",
      "Early stopping, best iteration is:\n",
      "[590]\tvalid_0's rmse: 0.512235\n",
      "[LightGBM] [Warning] feature_fraction is set=0.79, colsample_bytree=1.0 will be ignored. Current value: feature_fraction=0.79\n",
      "[LightGBM] [Warning] min_data_in_leaf is set=103, min_child_samples=20 will be ignored. Current value: min_data_in_leaf=103\n",
      "[LightGBM] [Warning] lambda_l1 is set=1.945, reg_alpha=0.0 will be ignored. Current value: lambda_l1=1.945\n",
      "[LightGBM] [Warning] bagging_fraction is set=0.93, subsample=1.0 will be ignored. Current value: bagging_fraction=0.93\n",
      "[LightGBM] [Warning] bagging_freq is set=4, subsample_freq=0 will be ignored. Current value: bagging_freq=4\n",
      "Training until validation scores don't improve for 85 rounds\n",
      "Early stopping, best iteration is:\n",
      "[1223]\tvalid_0's rmse: 0.50769\n",
      "[LightGBM] [Warning] feature_fraction is set=0.79, colsample_bytree=1.0 will be ignored. Current value: feature_fraction=0.79\n",
      "[LightGBM] [Warning] min_data_in_leaf is set=103, min_child_samples=20 will be ignored. Current value: min_data_in_leaf=103\n",
      "[LightGBM] [Warning] lambda_l1 is set=1.945, reg_alpha=0.0 will be ignored. Current value: lambda_l1=1.945\n",
      "[LightGBM] [Warning] bagging_fraction is set=0.93, subsample=1.0 will be ignored. Current value: bagging_fraction=0.93\n",
      "[LightGBM] [Warning] bagging_freq is set=4, subsample_freq=0 will be ignored. Current value: bagging_freq=4\n",
      "Training until validation scores don't improve for 85 rounds\n",
      "Early stopping, best iteration is:\n",
      "[1139]\tvalid_0's rmse: 0.527273\n",
      "[LightGBM] [Warning] feature_fraction is set=0.79, colsample_bytree=1.0 will be ignored. Current value: feature_fraction=0.79\n",
      "[LightGBM] [Warning] min_data_in_leaf is set=103, min_child_samples=20 will be ignored. Current value: min_data_in_leaf=103\n",
      "[LightGBM] [Warning] lambda_l1 is set=1.945, reg_alpha=0.0 will be ignored. Current value: lambda_l1=1.945\n",
      "[LightGBM] [Warning] bagging_fraction is set=0.93, subsample=1.0 will be ignored. Current value: bagging_fraction=0.93\n",
      "[LightGBM] [Warning] bagging_freq is set=4, subsample_freq=0 will be ignored. Current value: bagging_freq=4\n",
      "Training until validation scores don't improve for 85 rounds\n",
      "Early stopping, best iteration is:\n",
      "[702]\tvalid_0's rmse: 0.518789\n",
      "[LightGBM] [Warning] feature_fraction is set=0.79, colsample_bytree=1.0 will be ignored. Current value: feature_fraction=0.79\n",
      "[LightGBM] [Warning] min_data_in_leaf is set=103, min_child_samples=20 will be ignored. Current value: min_data_in_leaf=103\n",
      "[LightGBM] [Warning] lambda_l1 is set=1.945, reg_alpha=0.0 will be ignored. Current value: lambda_l1=1.945\n",
      "[LightGBM] [Warning] bagging_fraction is set=0.93, subsample=1.0 will be ignored. Current value: bagging_fraction=0.93\n",
      "[LightGBM] [Warning] bagging_freq is set=4, subsample_freq=0 will be ignored. Current value: bagging_freq=4\n",
      "Training until validation scores don't improve for 85 rounds\n",
      "Early stopping, best iteration is:\n",
      "[820]\tvalid_0's rmse: 0.532917\n",
      "[LightGBM] [Warning] feature_fraction is set=0.79, colsample_bytree=1.0 will be ignored. Current value: feature_fraction=0.79\n",
      "[LightGBM] [Warning] min_data_in_leaf is set=103, min_child_samples=20 will be ignored. Current value: min_data_in_leaf=103\n",
      "[LightGBM] [Warning] lambda_l1 is set=1.945, reg_alpha=0.0 will be ignored. Current value: lambda_l1=1.945\n",
      "[LightGBM] [Warning] bagging_fraction is set=0.93, subsample=1.0 will be ignored. Current value: bagging_fraction=0.93\n",
      "[LightGBM] [Warning] bagging_freq is set=4, subsample_freq=0 will be ignored. Current value: bagging_freq=4\n",
      "Training until validation scores don't improve for 85 rounds\n",
      "Early stopping, best iteration is:\n",
      "[805]\tvalid_0's rmse: 0.494258\n",
      "[LightGBM] [Warning] feature_fraction is set=0.79, colsample_bytree=1.0 will be ignored. Current value: feature_fraction=0.79\n",
      "[LightGBM] [Warning] min_data_in_leaf is set=103, min_child_samples=20 will be ignored. Current value: min_data_in_leaf=103\n",
      "[LightGBM] [Warning] lambda_l1 is set=1.945, reg_alpha=0.0 will be ignored. Current value: lambda_l1=1.945\n",
      "[LightGBM] [Warning] bagging_fraction is set=0.93, subsample=1.0 will be ignored. Current value: bagging_fraction=0.93\n",
      "[LightGBM] [Warning] bagging_freq is set=4, subsample_freq=0 will be ignored. Current value: bagging_freq=4\n",
      "Training until validation scores don't improve for 85 rounds\n",
      "Early stopping, best iteration is:\n",
      "[751]\tvalid_0's rmse: 0.530862\n",
      "[LightGBM] [Warning] feature_fraction is set=0.79, colsample_bytree=1.0 will be ignored. Current value: feature_fraction=0.79\n",
      "[LightGBM] [Warning] min_data_in_leaf is set=103, min_child_samples=20 will be ignored. Current value: min_data_in_leaf=103\n",
      "[LightGBM] [Warning] lambda_l1 is set=1.945, reg_alpha=0.0 will be ignored. Current value: lambda_l1=1.945\n",
      "[LightGBM] [Warning] bagging_fraction is set=0.93, subsample=1.0 will be ignored. Current value: bagging_fraction=0.93\n",
      "[LightGBM] [Warning] bagging_freq is set=4, subsample_freq=0 will be ignored. Current value: bagging_freq=4\n",
      "Training until validation scores don't improve for 85 rounds\n",
      "Early stopping, best iteration is:\n",
      "[860]\tvalid_0's rmse: 0.534885\n",
      "[LightGBM] [Warning] feature_fraction is set=0.79, colsample_bytree=1.0 will be ignored. Current value: feature_fraction=0.79\n",
      "[LightGBM] [Warning] min_data_in_leaf is set=103, min_child_samples=20 will be ignored. Current value: min_data_in_leaf=103\n",
      "[LightGBM] [Warning] lambda_l1 is set=1.945, reg_alpha=0.0 will be ignored. Current value: lambda_l1=1.945\n",
      "[LightGBM] [Warning] bagging_fraction is set=0.93, subsample=1.0 will be ignored. Current value: bagging_fraction=0.93\n",
      "[LightGBM] [Warning] bagging_freq is set=4, subsample_freq=0 will be ignored. Current value: bagging_freq=4\n",
      "Training until validation scores don't improve for 85 rounds\n",
      "Early stopping, best iteration is:\n",
      "[736]\tvalid_0's rmse: 0.526404\n",
      "[LightGBM] [Warning] feature_fraction is set=0.79, colsample_bytree=1.0 will be ignored. Current value: feature_fraction=0.79\n",
      "[LightGBM] [Warning] min_data_in_leaf is set=103, min_child_samples=20 will be ignored. Current value: min_data_in_leaf=103\n",
      "[LightGBM] [Warning] lambda_l1 is set=1.945, reg_alpha=0.0 will be ignored. Current value: lambda_l1=1.945\n",
      "[LightGBM] [Warning] bagging_fraction is set=0.93, subsample=1.0 will be ignored. Current value: bagging_fraction=0.93\n",
      "[LightGBM] [Warning] bagging_freq is set=4, subsample_freq=0 will be ignored. Current value: bagging_freq=4\n",
      "Training until validation scores don't improve for 85 rounds\n",
      "Early stopping, best iteration is:\n",
      "[968]\tvalid_0's rmse: 0.510324\n",
      "mean RMSE across all folds: 0.519563645188623\n"
     ]
    }
   ],
   "source": [
    "clfs = []\n",
    "rmses = []\n",
    "N_ESTIMATORS = 100_000\n",
    "\n",
    "params= {\n",
    " 'lambda_l1': 1.945,\n",
    " 'num_leaves': 87,\n",
    " 'feature_fraction': 0.79,\n",
    " 'bagging_fraction': 0.93,\n",
    " 'bagging_freq': 4,\n",
    " 'min_data_in_leaf': 103,\n",
    " 'max_depth': 17,\n",
    "}\n",
    "\n",
    "kf = KFold(n_splits=10, random_state=42, shuffle=True)\n",
    "\n",
    "\n",
    "for train_index, val_index in kf.split(train_df):\n",
    "    X_train, X_val = train_df[features].loc[train_index], train_df[features].loc[val_index]\n",
    "    y_train, y_val = train_df[target][train_index], train_df[target][val_index]\n",
    "    \n",
    "    clf = LGBMRegressor(learning_rate=0.02, n_estimators=N_ESTIMATORS, metric='rmse', **params)\n",
    "    clf.fit(X_train.values, y_train, eval_set=[(X_val, y_val)], callbacks=[lgbm.early_stopping(85, verbose=True)])\n",
    "    preds = clf.predict(X_val.values)\n",
    "    \n",
    "    predict1= clf.predict(X_val.values)\n",
    "\n",
    "    \n",
    "    clfs.append(clf)\n",
    "    rmses.append(mean_squared_error(y_val, preds, squared=False))\n",
    "    \n",
    "print(f'mean RMSE across all folds: {np.mean(rmses)}')"
   ]
  },
  {
   "cell_type": "code",
   "execution_count": 15,
   "id": "a6a5a141",
   "metadata": {},
   "outputs": [],
   "source": [
    "#catboost model"
   ]
  },
  {
   "cell_type": "code",
   "execution_count": 16,
   "id": "b12192f1",
   "metadata": {},
   "outputs": [
    {
     "name": "stdout",
     "output_type": "stream",
     "text": [
      "WARNING:tensorflow:From C:\\Users\\modx\\AppData\\Local\\Temp\\ipykernel_7060\\1745128129.py:3: is_gpu_available (from tensorflow.python.framework.test_util) is deprecated and will be removed in a future version.\n",
      "Instructions for updating:\n",
      "Use `tf.config.list_physical_devices('GPU')` instead.\n"
     ]
    },
    {
     "data": {
      "text/plain": [
       "True"
      ]
     },
     "execution_count": 16,
     "metadata": {},
     "output_type": "execute_result"
    }
   ],
   "source": [
    "import tensorflow\n",
    "\n",
    "tensorflow.test.is_gpu_available()\n"
   ]
  },
  {
   "cell_type": "code",
   "execution_count": 17,
   "id": "fd5ddf3e",
   "metadata": {},
   "outputs": [
    {
     "name": "stdout",
     "output_type": "stream",
     "text": [
      "mean RMSE across all folds: 0.519766462989854\n"
     ]
    }
   ],
   "source": [
    "from catboost import CatBoostRegressor\n",
    "\n",
    "rmses = []\n",
    "kf = KFold(n_splits=10, random_state=1, shuffle=True)\n",
    "for train_index, val_index in kf.split(train_df):\n",
    "    X_train, X_val = train_df[features].loc[train_index], train_df[features].loc[val_index]\n",
    "    y_train, y_val = train_df[target][train_index], train_df[target][val_index]\n",
    "\n",
    "    clf = CatBoostRegressor(iterations=N_ESTIMATORS,random_state = 42, loss_function='RMSE')\n",
    "    clf.fit(X_train, y_train, eval_set=(X_val, y_val), early_stopping_rounds=1000, verbose=False)\n",
    "    \n",
    "    \n",
    "    preds = clf.predict(X_val.values)\n",
    "    \n",
    "    clfs.append(clf)\n",
    "    rmses.append(mean_squared_error(y_val, preds, squared=False))\n",
    "print(f'mean RMSE across all folds: {np.mean(rmses)}')"
   ]
  },
  {
   "cell_type": "code",
   "execution_count": 48,
   "id": "7e66c350",
   "metadata": {},
   "outputs": [
    {
     "name": "stdout",
     "output_type": "stream",
     "text": [
      "mean RMSE across all folds: 0.5195037801294129\n"
     ]
    }
   ],
   "source": [
    "from xgboost import XGBRegressor\n",
    "\n",
    "clf = XGBRegressor(learning_rate=0.025, n_estimators=1000)\n",
    "clf.fit(X_train, y_train)\n",
    "preds = clf.predict(X_val.values)\n",
    "    \n",
    "clfs.append(clf)\n",
    "rmses.append(mean_squared_error(y_val, preds, squared=False))\n",
    "print(f'mean RMSE across all folds: {np.mean(rmses)}')"
   ]
  },
  {
   "cell_type": "code",
   "execution_count": null,
   "id": "70aa272f",
   "metadata": {},
   "outputs": [],
   "source": []
  },
  {
   "cell_type": "code",
   "execution_count": 49,
   "id": "34fe8154",
   "metadata": {},
   "outputs": [],
   "source": [
    "#prediction on test\n",
    "\n",
    "test_preds = []\n",
    "\n",
    "for clf in clfs:\n",
    "    preds = clf.predict(test_df[features].values)\n",
    "    test_preds.append(preds)"
   ]
  },
  {
   "cell_type": "code",
   "execution_count": 50,
   "id": "846968ec",
   "metadata": {},
   "outputs": [
    {
     "data": {
      "text/plain": [
       "array([0.65164501, 1.06472801, 4.03048482, ..., 1.21864117, 3.61033443,\n",
       "       3.49091259])"
      ]
     },
     "execution_count": 50,
     "metadata": {},
     "output_type": "execute_result"
    }
   ],
   "source": [
    "#We can now take the mean of our predictions\n",
    "\n",
    "test_preds = np.stack(test_preds).mean(0)\n",
    "test_preds\n"
   ]
  },
  {
   "cell_type": "code",
   "execution_count": 51,
   "id": "e54935d8",
   "metadata": {
    "scrolled": true
   },
   "outputs": [
    {
     "data": {
      "text/html": [
       "<div>\n",
       "<style scoped>\n",
       "    .dataframe tbody tr th:only-of-type {\n",
       "        vertical-align: middle;\n",
       "    }\n",
       "\n",
       "    .dataframe tbody tr th {\n",
       "        vertical-align: top;\n",
       "    }\n",
       "\n",
       "    .dataframe thead th {\n",
       "        text-align: right;\n",
       "    }\n",
       "</style>\n",
       "<table border=\"1\" class=\"dataframe\">\n",
       "  <thead>\n",
       "    <tr style=\"text-align: right;\">\n",
       "      <th></th>\n",
       "      <th>id</th>\n",
       "      <th>MedHouseVal</th>\n",
       "    </tr>\n",
       "  </thead>\n",
       "  <tbody>\n",
       "    <tr>\n",
       "      <th>0</th>\n",
       "      <td>37137</td>\n",
       "      <td>0.651645</td>\n",
       "    </tr>\n",
       "    <tr>\n",
       "      <th>1</th>\n",
       "      <td>37138</td>\n",
       "      <td>1.064728</td>\n",
       "    </tr>\n",
       "    <tr>\n",
       "      <th>2</th>\n",
       "      <td>37139</td>\n",
       "      <td>4.030485</td>\n",
       "    </tr>\n",
       "    <tr>\n",
       "      <th>3</th>\n",
       "      <td>37140</td>\n",
       "      <td>3.368283</td>\n",
       "    </tr>\n",
       "    <tr>\n",
       "      <th>4</th>\n",
       "      <td>37141</td>\n",
       "      <td>2.474366</td>\n",
       "    </tr>\n",
       "  </tbody>\n",
       "</table>\n",
       "</div>"
      ],
      "text/plain": [
       "      id  MedHouseVal\n",
       "0  37137     0.651645\n",
       "1  37138     1.064728\n",
       "2  37139     4.030485\n",
       "3  37140     3.368283\n",
       "4  37141     2.474366"
      ]
     },
     "execution_count": 51,
     "metadata": {},
     "output_type": "execute_result"
    }
   ],
   "source": [
    "submission = pd.DataFrame(data={'id': test_df.id, 'MedHouseVal': test_preds})\n",
    "submission.head()"
   ]
  },
  {
   "cell_type": "code",
   "execution_count": 54,
   "id": "f5ffd022",
   "metadata": {},
   "outputs": [],
   "source": [
    "submission.to_csv('submission_5.csv', index=False)"
   ]
  },
  {
   "cell_type": "code",
   "execution_count": 53,
   "id": "3e8ca355",
   "metadata": {},
   "outputs": [
    {
     "name": "stdout",
     "output_type": "stream",
     "text": [
      "0.798491010242075\n"
     ]
    }
   ],
   "source": [
    "#Calculate r2\n",
    "\n",
    "from sklearn.metrics import r2_score\n",
    "\n",
    "r2 = r2_score(y_val, predict1)\n",
    "\n",
    "print(r2)"
   ]
  },
  {
   "cell_type": "code",
   "execution_count": null,
   "id": "d3f8f085",
   "metadata": {},
   "outputs": [],
   "source": [
    "#notes\n",
    "\n",
    "#MSE\n",
    "\n",
    "#lower the value better the accuracy, we cannot o/p the accuracy of a regression model in terms of percentages. that can be done\n",
    "#for classification problems\n",
    "\n",
    "#gradiant boosting\n",
    "\n",
    "\n",
    "#light gbm\n",
    "#gradiant boosting framework based on decision tree\n",
    "\n",
    "#xg boost\n",
    "\n",
    "\n"
   ]
  }
 ],
 "metadata": {
  "kernelspec": {
   "display_name": "tensorflow_gpu",
   "language": "python",
   "name": "tensorflow_gpu"
  },
  "language_info": {
   "codemirror_mode": {
    "name": "ipython",
    "version": 3
   },
   "file_extension": ".py",
   "mimetype": "text/x-python",
   "name": "python",
   "nbconvert_exporter": "python",
   "pygments_lexer": "ipython3",
   "version": "3.9.15"
  }
 },
 "nbformat": 4,
 "nbformat_minor": 5
}
